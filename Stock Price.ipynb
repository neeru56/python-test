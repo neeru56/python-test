{
 "cells": [
  {
   "cell_type": "code",
   "execution_count": 2,
   "metadata": {},
   "outputs": [],
   "source": [
    "import pandas as pd\n",
    "from datetime import date\n",
    "from nsepy import get_history\n",
    "# TCS \n",
    "tcs_p = get_history(symbol='TCS',\n",
    "                   start=date(2015,1,1),\n",
    "                   end=date(2016,12,31))\n",
    "tcs=pd.DataFrame(tcs_p)\n",
    "tcs1=tcs.to_csv('tcs.csv')\n",
    "\n",
    "# Infosys\n",
    "infy_p = get_history(symbol='INFY',\n",
    "                   start=date(2015,1,1),\n",
    "                   end=date(2016,12,31))\n",
    "infosys=pd.DataFrame(infy_p)\n",
    "infosys1=infosys.to_csv('infosys.csv')\n",
    "\n",
    "# Nifty\n",
    "nif = get_history(symbol='NIFTY NEXT 50',\n",
    "                   start=date(2015,1,1),\n",
    "                   end=date(2016,12,31),\n",
    "                 index=True)\n",
    "nifty=pd.DataFrame(nif)\n",
    "nifty1=nifty.to_csv('nifty.csv')"
   ]
  },
  {
   "cell_type": "code",
   "execution_count": 3,
   "metadata": {},
   "outputs": [],
   "source": [
    "# Create 4,16,28,40,52 week moving average(closing price)\n",
    "\n",
    "import numpy as np\n",
    "def moving_avg(values,window):\n",
    "    weights=np.repeat(1.0,window)/window\n",
    "    smas= np.convolve(values,weights)\n",
    "    return smas\n",
    "\n",
    "# 4 week \n",
    "a=moving_avg(tcs[\"Close\"],28)"
   ]
  },
  {
   "cell_type": "code",
   "execution_count": null,
   "metadata": {},
   "outputs": [],
   "source": [
    "#Completing the time series and filling in the missing values\n",
    "\n",
    "# TCS\n",
    "time_index = pd.date_range('01/01/2015','31/12/2016')\n",
    "df = pd.DataFrame(index=time_index)\n",
    "df['Closing_Value'] = tcs[\"Close\"]\n",
    "df.interpolate()"
   ]
  },
  {
   "cell_type": "code",
   "execution_count": null,
   "metadata": {},
   "outputs": [],
   "source": [
    "# Create rolling window of size 10 on each stock/index.\n",
    "r_tcs = np.round(df[\"Close\"].rolling(window = 10, center = False).mean(), 2)\n",
    "r_tcs.head(10)"
   ]
  }
 ],
 "metadata": {
  "kernelspec": {
   "display_name": "Python 3",
   "language": "python",
   "name": "python3"
  },
  "language_info": {
   "codemirror_mode": {
    "name": "ipython",
    "version": 3
   },
   "file_extension": ".py",
   "mimetype": "text/x-python",
   "name": "python",
   "nbconvert_exporter": "python",
   "pygments_lexer": "ipython3",
   "version": "3.6.5"
  }
 },
 "nbformat": 4,
 "nbformat_minor": 2
}
